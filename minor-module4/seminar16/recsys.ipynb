{
 "cells": [
  {
   "cell_type": "markdown",
   "metadata": {},
   "source": [
    "## Рекомендательные системы: товары, которые больше понравятся"
   ]
  },
  {
   "cell_type": "markdown",
   "metadata": {},
   "source": [
    "Делаем рекомендации категорий товаров в интернет-магазине.\n",
    "\n",
    "Для каждого пользователя известно, когда и по товару какой категории он кликал.\n",
    "\n",
    "\n",
    "#### Метрика качества - mean average precision@k. \n",
    "Посмотрим детальнее на метрику: \n",
    "- precision@k - доля купленного из рекомендованного\n",
    "\n",
    "- average precision@k - внутри одного пользователя (одной рекомендации) усредняем precision@k по позициям k (так решаем проблему предыдущей метрики - она не учитывала порядок элементов в \"топе\")\n",
    "\n",
    "- mean average precision@k - усредняем по пользователям\n"
   ]
  },
  {
   "cell_type": "code",
   "execution_count": null,
   "metadata": {
    "collapsed": true
   },
   "outputs": [],
   "source": [
    "def apk(actual, predicted, k=10):\n",
    "    \"\"\"\n",
    "    Computes the average precision at k.\n",
    "\n",
    "    This function computes the average prescision at k between two lists of\n",
    "    items.\n",
    "\n",
    "    Parameters\n",
    "    ----------\n",
    "    actual : list\n",
    "             A list of elements that are to be predicted (order doesn't matter)\n",
    "    predicted : list\n",
    "                A list of predicted elements (order does matter)\n",
    "    k : int, optional\n",
    "        The maximum number of predicted elements\n",
    "\n",
    "    Returns\n",
    "    -------\n",
    "    score : double\n",
    "            The average precision at k over the input lists\n",
    "\n",
    "    \"\"\"\n",
    "    if len(predicted)>k:\n",
    "        predicted = predicted[:k]\n",
    "\n",
    "    score = 0.0\n",
    "    num_hits = 0.0\n",
    "\n",
    "    for i,p in enumerate(predicted):\n",
    "        if p in actual and p not in predicted[:i]:\n",
    "            num_hits += 1.0\n",
    "            score += num_hits / (i+1.0)\n",
    "\n",
    "    if not actual:\n",
    "        return 0.0\n",
    "\n",
    "    return score / min(len(actual), k)\n",
    "\n",
    "def mapk(actual, predicted, k=10):\n",
    "    \"\"\"\n",
    "    Computes the mean average precision at k.\n",
    "\n",
    "    This function computes the mean average prescision at k between two lists\n",
    "    of lists of items.\n",
    "\n",
    "    Parameters\n",
    "    ----------\n",
    "    actual : list\n",
    "             A list of lists of elements that are to be predicted \n",
    "             (order doesn't matter in the lists)\n",
    "    predicted : list\n",
    "                A list of lists of predicted elements\n",
    "                (order matters in the lists)\n",
    "    k : int, optional\n",
    "        The maximum number of predicted elements\n",
    "\n",
    "    Returns\n",
    "    -------\n",
    "    score : double\n",
    "            The mean average precision at k over the input lists\n",
    "\n",
    "    \"\"\"\n",
    "    return np.mean([apk(a,p,k) for a,p in zip(actual, predicted)])"
   ]
  },
  {
   "cell_type": "markdown",
   "metadata": {},
   "source": [
    "**Задача:** хотим предсказывать, какая категория товара пользователю будет интересна на оснве информации о кликах. \n",
    "Т.е. построить модель, предсказываюшую вероятность клика.\n",
    "\n",
    "**Общая схема построение модели:**\n",
    "\n",
    "- обучение модели: объектом выборки будет являться пара (user_id, category_id). Таргет - \"клик\"/\"не клик\", т.е. бинарная классификация. Будем обучать бустинг на logloss, чтобы получить вероятность, по которой в дальнейшем ранжировать. Данные - https://yadi.sk/i/Q_7oLzKAchFSHQ.\n",
    "\n",
    "- здесь надо подумать о том, что мы будем считать \"не кликом\" (негативным классом), ведь у нас етсь только информация о кликах. Будем выбирать рандомно **несколько** негативных примеров из всех оставшихся категорий, по которые пользователь не кликнул). (**несколько**, а не все возможные, потому что в противном случае получится сильный дисбаланс классов)\n",
    "\n",
    "- предсказание: для каждого пользователя из тестовой выборки и каждой возможной категории генерим признаки.\n",
    "\n",
    "- принимаем решение согласно модели: выберем топ 5 категорий для каждого пользователя по полученной вероятности.\n"
   ]
  },
  {
   "cell_type": "code",
   "execution_count": null,
   "metadata": {
    "collapsed": true
   },
   "outputs": [],
   "source": [
    "import numpy as np\n",
    "import pandas as pd\n",
    "from scipy import sparse\n",
    "from collections import Counter\n",
    "import matplotlib.pyplot as plt\n",
    "%matplotlib inline\n",
    "\n",
    "import random"
   ]
  },
  {
   "cell_type": "code",
   "execution_count": null,
   "metadata": {
    "collapsed": true
   },
   "outputs": [],
   "source": [
    "clicks = pd.read_csv('clicks.csv', sep=',')"
   ]
  },
  {
   "cell_type": "markdown",
   "metadata": {},
   "source": [
    "\n",
    "**1.** Разбейте данные на три части: \n",
    "- все до предпоследней недели (по этой неделе будем считать фичи о пользователе, о товаре, взаимные фичи)\n",
    "- предпоследняя неделя (по этой неделе сгенерируем обучающую выборку) \n",
    "- последняя неделя (тест, на котором смотрим качество -- пользователи, для которых хотим предсказать. Замечание: разумеется, здесь есть некоторая \"утечка\": на практике возможно предсказывать для тех пользователей, которые 1) пришли до момента предсказания 2) обычно мы не знаем, кто из них появится в нашей системе на интересующей неделе). В этой задаче мы не будем обращать на это внимание."
   ]
  },
  {
   "cell_type": "code",
   "execution_count": null,
   "metadata": {
    "collapsed": true
   },
   "outputs": [],
   "source": [
    "pred_last_week_start = '2016-09-12' \n",
    "last_week_start = '2016-09-19' "
   ]
  },
  {
   "cell_type": "code",
   "execution_count": null,
   "metadata": {
    "collapsed": true
   },
   "outputs": [],
   "source": [
    "stat_clicks = #\n",
    "train_clicks = #\n",
    "test_clicks = #"
   ]
  },
  {
   "cell_type": "code",
   "execution_count": null,
   "metadata": {},
   "outputs": [],
   "source": [
    "clicks.head()"
   ]
  },
  {
   "cell_type": "markdown",
   "metadata": {},
   "source": [
    "**2.** По stat_clicks хотим посчитать статистики для фичей о пользователях и товарах.\n",
    "\n",
    "- создайте в датафрейме столбец 'list', в котором будет лежать лист из \"троек\" (user_id, category_id, day)\n",
    "- составим обучающую выборку (сами объекты, пока что без признакового описания): для каждого пользователя возьмите категории, которые входили в его топ-5 кликнутых (это будет класс 1), и еще 5 случайных категорий (класс 0).\n",
    "\n",
    "Чем плох следующий вариант: для всех категорий, которые не просмотрел пользователь, поставить класс 0?"
   ]
  },
  {
   "cell_type": "code",
   "execution_count": null,
   "metadata": {},
   "outputs": [],
   "source": [
    "stat_clicks['list'] = #"
   ]
  },
  {
   "cell_type": "code",
   "execution_count": null,
   "metadata": {},
   "outputs": [],
   "source": [
    "stat_clicks.loc[1].list"
   ]
  },
  {
   "cell_type": "code",
   "execution_count": null,
   "metadata": {
    "collapsed": true
   },
   "outputs": [],
   "source": [
    "categories = np.unique(clicks.category_id.values)\n",
    "\n",
    "# функция возврашает лейблы 1/0 в y (здесь же сэмплируем негативные примеры)\n",
    "# айди категории, айди пользователя в X \n",
    "\n",
    "def get_sample(train_clicks_list):\n",
    "    sample, target = [], []\n",
    "\n",
    "    return target, sample\n",
    "    \n",
    "train_clicks_list = train_clicks.groupby('user_id')['category_id'].apply(list)   \n",
    "targets, objects = get_sample(train_clicks_list)"
   ]
  },
  {
   "cell_type": "code",
   "execution_count": null,
   "metadata": {
    "collapsed": true
   },
   "outputs": [],
   "source": []
  },
  {
   "cell_type": "markdown",
   "metadata": {},
   "source": [
    "**3.**\n",
    "Напишите код, который считает вспомогательные статистики по пользователям и категориям.\n",
    "\n",
    "\n",
    "Признаки по категории:\n",
    "- сколько всего кликов было по этой категории\n",
    "- сколько уникальных пользователей кликало по этой категории\n",
    "- сколько категорий встречалось с конкретной категорией (внутри одного пользователя) = топ 5 категорий, которые встречались вместе с конкретной внутри одного пользователя\n",
    "\n",
    "По пользователю:\n",
    "- для каждого пользователя список всех категорий, по которым он кликал (затем каждую из этих категорий будем кодировать числом - суммарным числом кликов по ней )\n",
    "- посчитаем топ 5 самых популярных категорий (по всей выборке), затем посмотрим, кликал ли пользователь по этим 5 популярным (это будет 5 фичей для каждого пользователя = (просматривал ли категории из топ 5 когда-либо))"
   ]
  },
  {
   "cell_type": "code",
   "execution_count": null,
   "metadata": {
    "collapsed": true
   },
   "outputs": [],
   "source": [
    "from collections import defaultdict, Counter"
   ]
  },
  {
   "cell_type": "code",
   "execution_count": null,
   "metadata": {
    "collapsed": true
   },
   "outputs": [],
   "source": [
    "# по пользователю\n",
    "categories_on_users = defaultdict(list)\n",
    "\n",
    "# YOUR CODE IS HERE\n",
    "\n",
    "# 5 самых поулярных категорий\n",
    "popular_cats = #\n",
    "\n",
    "# по категориям\n",
    "# сколько всего кликов было по этой категории\n",
    "clicks_on_category = Counter()\n",
    "# сколько уникальных пользователей кликало по этой категории\n",
    "users_on_category = defaultdict(set)\n",
    "# сколько категорий встречалось с конкретной категорией (внутри одного пользователя)\n",
    "category_with_category = defaultdict(list) \n",
    "\n",
    "# YOUR CODE IS HERE"
   ]
  },
  {
   "cell_type": "code",
   "execution_count": null,
   "metadata": {
    "collapsed": true
   },
   "outputs": [],
   "source": []
  },
  {
   "cell_type": "markdown",
   "metadata": {},
   "source": [
    "**4.** Для каждого объекта обучающей выборке (objects) создайте следующие признаки:\n",
    "- сколько было кликов по этой категории\n",
    "- сколько было различных пользователей, кликнувших по этой категори\n",
    "- топ 5 которые встречались с данной категорией category_with_category_cnt: их кодируем встречаемостью всех кликов\n",
    "- топ 5 самых крутых категорий по пользователю, закодированных числом кликов по ней со всей выборки\n",
    "- 5 OHE-фичей (кликал ли пользователь 5 популярным)\n",
    "\n",
    "Обучите xgboost."
   ]
  },
  {
   "cell_type": "code",
   "execution_count": null,
   "metadata": {
    "collapsed": true
   },
   "outputs": [],
   "source": [
    "X_train_feats = []\n",
    "\n",
    "for cat_id, user_id in objects:\n",
    "    \n",
    "    features_train  = []\n",
    "    # фичи по категории\n",
    "    # YOUR CODE IS HERE\n",
    "    features_train.append()\n",
    "    # фичи по пользователям\n",
    "    # YOUR CODE IS HERE\n",
    "    X_train_feats.append(features_train)\n",
    "    \n",
    "X_train_feats = np.array(X_train_feats)"
   ]
  },
  {
   "cell_type": "code",
   "execution_count": null,
   "metadata": {
    "collapsed": true
   },
   "outputs": [],
   "source": [
    "from sklearn.ensemble import GradientBoostingClassifier\n",
    "gb = GradientBoostingClassifier().fit(X_train_feats, np.array(targets))"
   ]
  },
  {
   "cell_type": "code",
   "execution_count": null,
   "metadata": {
    "collapsed": true
   },
   "outputs": [],
   "source": []
  },
  {
   "cell_type": "markdown",
   "metadata": {},
   "source": [
    "**5.** Теперь сделаем предсказание для каждого user_id  и каждой категории.\n",
    "- создайте список всех категорий, для которой мы хотим предсказывать (внутри каждого пользователя)\n",
    "- напишите функцию, которая по user_id будет генерировать признаковое описание для каждой возможной категории\n",
    "- напишите функцию,которая по user_id будет генерировать предсказание"
   ]
  },
  {
   "cell_type": "code",
   "execution_count": null,
   "metadata": {
    "collapsed": true
   },
   "outputs": [],
   "source": [
    "test_clicks_list = test_clicks.groupby('user_id')['category_id'].apply(list)"
   ]
  },
  {
   "cell_type": "code",
   "execution_count": null,
   "metadata": {
    "collapsed": true
   },
   "outputs": [],
   "source": [
    "# все категории, для которой мы хотим предсказывать (внутри каждого пользователя)\n",
    "categories_to_pred = "
   ]
  },
  {
   "cell_type": "code",
   "execution_count": null,
   "metadata": {
    "collapsed": true
   },
   "outputs": [],
   "source": [
    "def get_features(user_id, cat_id):\n",
    "\n",
    "    features_train  = []\n",
    "    # YOUR CODE IS HERE\n",
    "    \n",
    "    return features_train"
   ]
  },
  {
   "cell_type": "code",
   "execution_count": null,
   "metadata": {
    "collapsed": true
   },
   "outputs": [],
   "source": [
    "def get_prediction(user_id):\n",
    "    return \n",
    "\n",
    "import heapq\n",
    "# для оптимизации использовать heapq\n",
    "# heapq.nlargest(5, zp(categories_to_pred, pred), key=1)"
   ]
  },
  {
   "cell_type": "code",
   "execution_count": null,
   "metadata": {},
   "outputs": [],
   "source": [
    "get_prediction(100)"
   ]
  },
  {
   "cell_type": "markdown",
   "metadata": {},
   "source": [
    "**6.** Смотрим качество:"
   ]
  },
  {
   "cell_type": "code",
   "execution_count": null,
   "metadata": {
    "collapsed": true
   },
   "outputs": [],
   "source": [
    "m = []\n",
    "for user_id, arr in zip(test_clicks_list.index, test_clicks_list)[1800:2000]:\n",
    "    actual = test_clicks_list.loc[user_id]\n",
    "    predicted = get_prediction(user_id)\n",
    "    m.append(apk(actual, predicted, 5))"
   ]
  },
  {
   "cell_type": "code",
   "execution_count": null,
   "metadata": {},
   "outputs": [],
   "source": [
    "np.mean(m)"
   ]
  },
  {
   "cell_type": "markdown",
   "metadata": {},
   "source": [
    "Какие фичи еще можно исопльзовать?\n",
    "\n",
    "- временные: день недели играет большую роль (в выходные и праздничные дни пользователи ведут себя не так, как в будние)\n",
    "- признаки по пользователю и категории с учетом времени (просматривал ли пользователь эту категорию неделю назад, 2 недели назад и т.д.)"
   ]
  },
  {
   "cell_type": "markdown",
   "metadata": {},
   "source": []
  }
 ],
 "metadata": {
  "kernelspec": {
   "display_name": "Python 3",
   "language": "python",
   "name": "python3"
  },
  "language_info": {
   "codemirror_mode": {
    "name": "ipython",
    "version": 3
   },
   "file_extension": ".py",
   "mimetype": "text/x-python",
   "name": "python",
   "nbconvert_exporter": "python",
   "pygments_lexer": "ipython3",
   "version": "3.6.8"
  }
 },
 "nbformat": 4,
 "nbformat_minor": 2
}
