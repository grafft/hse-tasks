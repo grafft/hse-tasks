{
 "cells": [
  {
   "cell_type": "markdown",
   "metadata": {},
   "source": [
    "## Семинар 6: машинный перевод\n",
    "\n",
    "На этом семинаре по будем работать с обучением типа \"последовательность к последовательности\" (seq2seq), когда нам необходимо по данной цепочке слов (символов) предсказать другую цепочку (например, на другом языке):\n",
    "\n",
    "\"the cat sat on the mat\" -> [Seq2Seq model] -> \"le chat etait assis sur le tapis\"\n",
    "\n",
    "Seq2Seq обучение в Keras будем проводить на уровне символов. Работу модели будем проверять на посимвольном переводе\n",
    "коротких английских предложения в короткие французские предложения. В промышленных система более распространен перевод на уровне слов (с вложениями слов).\n",
    "\n",
    "- В качетсве входных последовательностей выступают английские предложения, в качестве соответствующих целевых последовательностей - французские предложения.\n",
    "\n",
    "- Кодировщик LSTM конвертирует входные последовательности в 2 вектора состояния (нам необходимо последнее состояние LSTM, выходы как таковые не нужны).\n",
    "\n",
    "- LSTM декодер обучается преобразовывать целевые последовательности в те же последовательности, но смещенные на один шаг вперед. Это назвается \"принуждение учителя\" (teaching force). Декодер использует в качестве начального состояния векторы состояния из кодировщика. Декодер учится генерировать target[t+1...] по target[...t] при условии входной последовательности.\n",
    "\n",
    "![Пример 1](https://blog.keras.io/img/seq2seq/seq2seq-teacher-forcing.png)\n",
    "\n",
    "- В режиме вывода, когда мы хотим декодировать неизвестные входные последовательности:\n",
    "    - Кодируем входную последовательность в векторы состояний\n",
    "    - Начнинаем с целевой последовательности размера 1 (символ начала последовательности)\n",
    "    - Отправляем векторы состояния и целевую последовательности из одного символа\n",
    "        в декодер для получения предсказаний для следующего символа\n",
    "    - Генерируем следующий символ, используя эти предсказания (argmax).\n",
    "    - Добавляем полученный символ в целевую последовательность\n",
    "    - Повторяем, пока не будет получен символ конца последовательности или не будет достигнут лимит символов.\n",
    "    \n",
    "![Пример 2](https://blog.keras.io/img/seq2seq/seq2seq-inference.png)"
   ]
  },
  {
   "cell_type": "markdown",
   "metadata": {
    "collapsed": true
   },
   "source": [
    "Данные, которые будем исользовть:\n",
    "\n",
    "- [English to French sentence pairs.](http://www.manythings.org/anki/fra-eng.zip) - используем этот датасет\n",
    "- [Lots of neat sentence pairs datasets.](http://www.manythings.org/anki/)\n",
    "\n",
    "Дополнительные ссылки:\n",
    "- [Sequence to Sequence Learning with Neural Networks](https://arxiv.org/abs/1409.3215)\n",
    "- [Learning Phrase Representations using RNN Encoder-Decoder for Statistical Machine Translation](https://arxiv.org/abs/1406.1078)\n"
   ]
  },
  {
   "cell_type": "code",
   "execution_count": null,
   "metadata": {},
   "outputs": [],
   "source": [
    "from __future__ import print_function\n",
    "\n",
    "from keras.models import Model\n",
    "from keras.layers import Input, LSTM, Dense\n",
    "import numpy as np\n",
    "\n",
    "batch_size = 64  # Batch size for training.\n",
    "epochs = 100  # Number of epochs to train for.\n",
    "num_samples = 10000  # Number of samples to train on.\n",
    "# Path to the data txt file on disk.\n",
    "data_path = 'fra.txt'\n"
   ]
  },
  {
   "cell_type": "markdown",
   "metadata": {},
   "source": [
    "### Часть 1 - Загрузка данных, создание кодировщика\n",
    "\n",
    "Векторизуем наши входные и выходные последовательности. Используем one-hot кодирование."
   ]
  },
  {
   "cell_type": "code",
   "execution_count": null,
   "metadata": {},
   "outputs": [],
   "source": [
    "# Vectorize the data.\n",
    "input_texts = []\n",
    "target_texts = []\n",
    "input_characters = set()\n",
    "target_characters = set()\n",
    "### Your code here\n",
    "# Читаем файл в массив строчек\n",
    "lines = None\n",
    "\n",
    "for line in lines[: min(num_samples, len(lines) - 1)]:\n",
    "    ### Your code here\n",
    "    # из каждой строчки извлекаем входной текст и целевой\n",
    "    # [START] - tab, [STOP] - перевод строки\n",
    "    input_text, target_text = None, None\n",
    "    \n",
    "    input_texts.append(input_text)\n",
    "    target_texts.append(target_text)\n",
    "    ### Your code here\n",
    "    # подситываем статистику: уникальные символы во входных последовательностях (input_characters) \n",
    "    #и в целевых (target_characters)\n",
    "    input_characters.add(None)\n",
    "    target_characters.add(None)"
   ]
  },
  {
   "cell_type": "markdown",
   "metadata": {},
   "source": [
    "Вывыодим статистическую информацию"
   ]
  },
  {
   "cell_type": "code",
   "execution_count": null,
   "metadata": {},
   "outputs": [],
   "source": [
    "input_characters = sorted(list(input_characters))\n",
    "target_characters = sorted(list(target_characters))\n",
    "num_encoder_tokens = len(input_characters)\n",
    "num_decoder_tokens = len(target_characters)\n",
    "### Your code here\n",
    "# Подсчитываем максимальные длины последовательностей для входа (max_encoder_seq_length) и цели (max_decoder_seq_length)\n",
    "max_encoder_seq_length = None\n",
    "max_decoder_seq_length = None\n",
    "\n",
    "print('Number of samples:', len(input_texts))\n",
    "print('Number of unique input tokens:', num_encoder_tokens)\n",
    "print('Number of unique output tokens:', num_decoder_tokens)\n",
    "print('Max sequence length for inputs:', max_encoder_seq_length)\n",
    "print('Max sequence length for outputs:', max_decoder_seq_length)\n",
    "\n",
    "### Your code here\n",
    "# Создаем индекс входных символов и выходных: словари типа char:index\n",
    "input_token_index = dict()\n",
    "target_token_index = dict()"
   ]
  },
  {
   "cell_type": "markdown",
   "metadata": {},
   "source": [
    "Создаем массивы для данных: \n",
    "- encoder_input_data - входной массив всех входных последовательностей, закодированных one-hot\n",
    "- decoder_input_data - целевой массив всех целевых последовательностей, закодированных one-hot\n",
    "- decoder_target_data - целевой массив всех целевых последовательностей, закодированных one-hot, со смещением на 1"
   ]
  },
  {
   "cell_type": "code",
   "execution_count": null,
   "metadata": {},
   "outputs": [],
   "source": [
    "### Your code here\n",
    "encoder_input_data = np.zeros(\n",
    "    (0, 0, 0),\n",
    "    dtype='float32')\n",
    "decoder_input_data = np.zeros(\n",
    "    (0,0,0),\n",
    "    dtype='float32')\n",
    "decoder_target_data = np.zeros(\n",
    "    (0,0,0),\n",
    "    dtype='float32')\n",
    "\n",
    "for i, (input_text, target_text) in enumerate(zip(input_texts, target_texts)):\n",
    "    ### Your code here\n",
    "    # заполняем нулевые массивы 1 в соответствующие места\n",
    "    pass\n"
   ]
  },
  {
   "cell_type": "markdown",
   "metadata": {},
   "source": [
    "Создаем слой LSTM с параметром возвращения внутренних состояний (return_state).\n",
    "\n",
    "![LSTM](https://i.stack.imgur.com/DS97N.png)"
   ]
  },
  {
   "cell_type": "code",
   "execution_count": null,
   "metadata": {},
   "outputs": [],
   "source": [
    "latent_dim = 256  # Latent dimensionality of the encoding space.\n",
    "\n",
    "# Define an input sequence and process it.\n",
    "### Your code here\n",
    "encoder_inputs = Input(shape=(None, 0))\n",
    "encoder = LSTM(latent_dim, return_state=True)\n",
    "encoder_outputs, state_h, state_c = encoder(encoder_inputs)\n",
    "# We discard `encoder_outputs` and only keep the states.\n",
    "encoder_states = [state_h, state_c]"
   ]
  },
  {
   "cell_type": "markdown",
   "metadata": {},
   "source": [
    "### Часть 2 - Создание декодировщика, обучение\n",
    "\n",
    "Декодером будет являться также LSTM, в которйо в качестве начального состояния будет исопльзоваться выход кодировщика."
   ]
  },
  {
   "cell_type": "code",
   "execution_count": null,
   "metadata": {},
   "outputs": [],
   "source": [
    "# Set up the decoder, using `encoder_states` as initial state.\n",
    "### Your code here\n",
    "decoder_inputs = Input(shape=(None, 0))\n",
    "# We set up our decoder to return full output sequences,\n",
    "# and to return internal states as well. We don't use the\n",
    "# return states in the training model, but we will use them in inference.\n",
    "decoder_lstm = LSTM(latent_dim, return_sequences=True, return_state=True)\n",
    "decoder_outputs, _, _ = decoder_lstm(decoder_inputs,\n",
    "                                     initial_state=encoder_states)\n",
    "\n",
    "# Добавляем полносвязный слой для определения вероятности следующейго символа\n",
    "decoder_dense = None\n",
    "decoder_outputs = None"
   ]
  },
  {
   "cell_type": "code",
   "execution_count": null,
   "metadata": {},
   "outputs": [],
   "source": [
    "# Define the model that will turn\n",
    "# `encoder_input_data` & `decoder_input_data` into `decoder_target_data`\n",
    "model = Model([encoder_inputs, decoder_inputs], decoder_outputs)\n",
    "\n",
    "# Run training\n",
    "model.compile(optimizer='rmsprop', loss='categorical_crossentropy')\n",
    "model.fit([encoder_input_data, decoder_input_data], decoder_target_data,\n",
    "          batch_size=batch_size,\n",
    "          epochs=epochs,\n",
    "          validation_split=0.2)\n",
    "# Save model\n",
    "model.save('s2s.h5')"
   ]
  },
  {
   "cell_type": "markdown",
   "metadata": {},
   "source": [
    "### Часть 3 - режим вывода\n",
    "\n",
    "Используем те же созданные нами ранее слои, но немного меняем порядок подачи данных на декодер."
   ]
  },
  {
   "cell_type": "code",
   "execution_count": null,
   "metadata": {},
   "outputs": [],
   "source": [
    "# Define sampling models\n",
    "encoder_model = Model(encoder_inputs, encoder_states)\n",
    "\n",
    "decoder_state_input_h = Input(shape=(latent_dim,))\n",
    "decoder_state_input_c = Input(shape=(latent_dim,))\n",
    "decoder_states_inputs = [decoder_state_input_h, decoder_state_input_c]\n",
    "decoder_outputs, state_h, state_c = decoder_lstm(\n",
    "    decoder_inputs, initial_state=decoder_states_inputs)\n",
    "decoder_states = [state_h, state_c]\n",
    "decoder_outputs = decoder_dense(decoder_outputs)\n",
    "decoder_model = Model(\n",
    "    [decoder_inputs] + decoder_states_inputs,\n",
    "    [decoder_outputs] + decoder_states)\n"
   ]
  },
  {
   "cell_type": "markdown",
   "metadata": {},
   "source": [
    "Функция декодирование последовательности - перевод в символы."
   ]
  },
  {
   "cell_type": "code",
   "execution_count": null,
   "metadata": {},
   "outputs": [],
   "source": [
    "# Reverse-lookup token index to decode sequences back to\n",
    "# something readable.\n",
    "### Your code here\n",
    "reverse_input_char_index = dict()\n",
    "reverse_target_char_index = dict(0)\n",
    "\n",
    "def decode_sequence(input_seq):\n",
    "    ### Your code here\n",
    "    # Encode the input as state vectors.\n",
    "    states_value = None\n",
    "\n",
    "    \n",
    "    ### Your code here\n",
    "    # Generate empty target sequence of length 1.\n",
    "    target_seq = np.zeros((0,0,0))\n",
    "    ### Your code here\n",
    "    # Populate the first character of target sequence with the start character.\n",
    "    target_seq[0, 0, 0] = 1.\n",
    "\n",
    "    # Sampling loop for a batch of sequences\n",
    "    # (to simplify, here we assume a batch of size 1).\n",
    "    stop_condition = False\n",
    "    decoded_sentence = ''\n",
    "    while not stop_condition:\n",
    "        output_tokens, h, c = decoder_model.predict(\n",
    "            [target_seq] + states_value)\n",
    "\n",
    "        # Sample a token\n",
    "        ### Your code here\n",
    "        # выбираем максимальной правдоподобный\n",
    "        sampled_token_index = None\n",
    "        # определяем символ\n",
    "        sampled_char = None\n",
    "        decoded_sentence += sampled_char\n",
    "\n",
    "        # Exit condition: either hit max length\n",
    "        # or find stop character.\n",
    "        if (sampled_char == '\\n' or\n",
    "           len(decoded_sentence) > max_decoder_seq_length):\n",
    "            stop_condition = True\n",
    "\n",
    "        ### Your code here\n",
    "        # определяем символ\n",
    "        # Update the target sequence (of length 1).\n",
    "        target_seq = np.zeros((0, 0, 0))\n",
    "        target_seq[0, 0, 0] = 1.\n",
    "\n",
    "        # Update states\n",
    "        states_value = [h, c]\n",
    "\n",
    "    return decoded_sentence"
   ]
  },
  {
   "cell_type": "markdown",
   "metadata": {},
   "source": [
    "Запускаем генерацию"
   ]
  },
  {
   "cell_type": "code",
   "execution_count": null,
   "metadata": {},
   "outputs": [],
   "source": [
    "for seq_index in range(100):\n",
    "    # Take one sequence (part of the training set)\n",
    "    # for trying out decoding.\n",
    "    input_seq = encoder_input_data[seq_index: seq_index + 1]\n",
    "    decoded_sentence = decode_sequence(input_seq)\n",
    "    print('-')\n",
    "    print('Input sentence:', input_texts[seq_index])\n",
    "    print('Decoded sentence:', decoded_sentence)"
   ]
  }
 ],
 "metadata": {
  "anaconda-cloud": {},
  "kernelspec": {
   "display_name": "Python 3",
   "language": "python",
   "name": "python3"
  },
  "language_info": {
   "codemirror_mode": {
    "name": "ipython",
    "version": 3
   },
   "file_extension": ".py",
   "mimetype": "text/x-python",
   "name": "python",
   "nbconvert_exporter": "python",
   "pygments_lexer": "ipython3",
   "version": "3.6.8"
  }
 },
 "nbformat": 4,
 "nbformat_minor": 1
}
